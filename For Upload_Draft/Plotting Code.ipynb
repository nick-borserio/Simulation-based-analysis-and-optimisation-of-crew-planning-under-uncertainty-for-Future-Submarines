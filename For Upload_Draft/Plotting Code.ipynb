{
 "cells": [
  {
   "cell_type": "code",
   "execution_count": 1,
   "id": "d9043ac6",
   "metadata": {},
   "outputs": [
    {
     "ename": "NameError",
     "evalue": "name 'policyOut' is not defined",
     "output_type": "error",
     "traceback": [
      "\u001b[1;31m---------------------------------------------------------------------------\u001b[0m",
      "\u001b[1;31mNameError\u001b[0m                                 Traceback (most recent call last)",
      "\u001b[1;32m<ipython-input-1-05bc05f073e9>\u001b[0m in \u001b[0;36m<module>\u001b[1;34m\u001b[0m\n\u001b[0;32m     16\u001b[0m        \u001b[1;36m18\u001b[0m\u001b[1;33m,\u001b[0m \u001b[1;36m24\u001b[0m\u001b[1;33m,\u001b[0m  \u001b[1;36m9\u001b[0m\u001b[1;33m,\u001b[0m  \u001b[1;36m9\u001b[0m\u001b[1;33m,\u001b[0m \u001b[1;36m24\u001b[0m\u001b[1;33m,\u001b[0m  \u001b[1;36m5\u001b[0m\u001b[1;33m,\u001b[0m \u001b[1;36m22\u001b[0m\u001b[1;33m,\u001b[0m  \u001b[1;36m5\u001b[0m\u001b[1;33m,\u001b[0m  \u001b[1;36m5\u001b[0m\u001b[1;33m,\u001b[0m  \u001b[1;36m9\u001b[0m\u001b[1;33m,\u001b[0m \u001b[1;36m18\u001b[0m\u001b[1;33m,\u001b[0m \u001b[1;36m11\u001b[0m\u001b[1;33m,\u001b[0m  \u001b[1;36m4\u001b[0m\u001b[1;33m,\u001b[0m \u001b[1;36m14\u001b[0m\u001b[1;33m,\u001b[0m \u001b[1;36m10\u001b[0m\u001b[1;33m,\u001b[0m \u001b[1;36m11\u001b[0m\u001b[1;33m,\u001b[0m  \u001b[1;36m7\u001b[0m\u001b[1;33m,\u001b[0m\u001b[1;33m\u001b[0m\u001b[1;33m\u001b[0m\u001b[0m\n\u001b[0;32m     17\u001b[0m         7, 19, 19, 24]]\n\u001b[1;32m---> 18\u001b[1;33m \u001b[0ma\u001b[0m\u001b[1;33m,\u001b[0m\u001b[0mb\u001b[0m\u001b[1;33m,\u001b[0m\u001b[0mc\u001b[0m\u001b[1;33m,\u001b[0m\u001b[0md\u001b[0m\u001b[1;33m,\u001b[0m\u001b[0me\u001b[0m\u001b[1;33m,\u001b[0m\u001b[0mf\u001b[0m\u001b[1;33m,\u001b[0m\u001b[0mg\u001b[0m\u001b[1;33m,\u001b[0m\u001b[0mh\u001b[0m\u001b[1;33m,\u001b[0m\u001b[0mi1\u001b[0m\u001b[1;33m,\u001b[0m\u001b[0mj\u001b[0m\u001b[1;33m,\u001b[0m\u001b[0mk\u001b[0m\u001b[1;33m=\u001b[0m\u001b[0mpolicyOut\u001b[0m\u001b[1;33m(\u001b[0m\u001b[0mkronos\u001b[0m\u001b[1;33m,\u001b[0m\u001b[0mx_current\u001b[0m\u001b[1;33m)\u001b[0m\u001b[1;33m\u001b[0m\u001b[1;33m\u001b[0m\u001b[0m\n\u001b[0m\u001b[0;32m     19\u001b[0m  \u001b[1;31m#a=crewable, b=deployed c=docked d=sailorR1 e=sailorR2 f=sailor2R3 g=sailorR4,\u001b[0m\u001b[1;33m\u001b[0m\u001b[1;33m\u001b[0m\u001b[1;33m\u001b[0m\u001b[0m\n\u001b[0;32m     20\u001b[0m     \u001b[1;31m#h=officerR1 i=officerR2 j=officerR3 k=officerR4\u001b[0m\u001b[1;33m\u001b[0m\u001b[1;33m\u001b[0m\u001b[1;33m\u001b[0m\u001b[0m\n",
      "\u001b[1;31mNameError\u001b[0m: name 'policyOut' is not defined"
     ]
    }
   ],
   "source": [
    "x_current= [[ 0,  5,  0,  4,  0,  0, 10,  0,  0, 12,  6,  1,  3,  0,  0,  8,  4,\n",
    "        5,  0,  0,  0,  0,  9, 12,  4,  1,  6,  4, 18, 14,  0,  3, 10,  0,\n",
    "       16,  6,  0,  3, 17,  0,  2,  0,  4,  8, 20, 20,  4,  9,  1,  0,  5,\n",
    "        0,  0,  0, 19,  3,  1, 14,  9,  2,  0,  4,  1,  6,  3,  9, 15,  0,\n",
    "        1,  7,  1, 13, 10, 20,  2,  3,  3,  0,  4, 16,  7,  5,  0, 11,  2,\n",
    "       13,  4,  4,  3,  0,  0,  3,  0,  7,  3,  0,  7,  1, 13,  6,  5,  2,\n",
    "        9, 13,  0,  0, 20, 16,  8,  6, 13,  0,  6, 10, 20,  0,  0,  6, 14,\n",
    "        2,  0,  9,  3,  9,  2,  0, 18,  1,  2,  8, 12, 12,  0,  4,  8, 12,\n",
    "        0,  7,  0, 13],[ 2, 18, 25,  0, 15, 13, 23, 10,  1, 25, 21, 12,  9,  8,  1, 13,  5,\n",
    "       19, 12, 20, 18,  7,  3, 19, 20, 21, 25, 22,  5,  0, 19, 12,  4, 13,\n",
    "       11, 11, 20, 15,  7,  0, 14,  8,  2, 21,  6, 12,  0, 17,  6, 17,  9,\n",
    "       22, 14,  4, 14, 23, 22,  0, 10, 24, 14, 12,  1, 17, 25, 13, 24, 21,\n",
    "        8, 16,  5, 14, 11, 20,  1, 25, 19, 16, 19, 23,  5, 14,  2, 23, 23,\n",
    "       18, 13, 25,  7,  0, 12, 23, 23,  7,  6, 10,  7, 10,  6, 21,  4,  1,\n",
    "       23,  8,  5,  5, 20, 14,  5,  1, 10, 18,  4,  1, 21, 18, 20,  7,  8,\n",
    "       18, 24,  9,  9, 24,  5, 22,  5,  5,  9, 18, 11,  4, 14, 10, 11,  7,\n",
    "        7, 19, 19, 24]]\n",
    "a,b,c,d,e,f,g,h,i1,j,k=policyOut(kronos,x_current)\n",
    " #a=crewable, b=deployed c=docked d=sailorR1 e=sailorR2 f=sailor2R3 g=sailorR4,\n",
    "    #h=officerR1 i=officerR2 j=officerR3 k=officerR4\n",
    "print(np.mean(c))\n",
    "print((1-(np.mean(c)/(xt))))\n",
    "fig1 = plt.figure()\n",
    "rect = fig1.patch\n",
    "rect.set_facecolor(\"white\")\n",
    "plt.plot(a, label=\"Crewable\")\n",
    "plt.plot(b,label='deployed')\n",
    "plt.plot(c,label='docked')\n",
    "plt.plot((np.add(b,c)),label='total fleet size')\n",
    "plt.legend()\n",
    "plt.xlabel(\"X axis label\")\n",
    "plt.ylabel(\"Y axis label\")\n",
    "filename='AxisAvab'\n",
    "i = 0\n",
    "while True:\n",
    "    i += 1\n",
    "    newname = '{}{:d}.png'.format(filename, i)\n",
    "    if os.path.exists(newname):\n",
    "        continue\n",
    "    plt.savefig(newname)\n",
    "    break\n",
    "#['Crewable','deployed','docked'])\n",
    "fig2 = plt.figure()\n",
    "rect = fig2.patch\n",
    "rect.set_facecolor(\"white\")\n",
    "plt.plot(d,label='Rank1')\n",
    "plt.plot(e,label='Rank2')\n",
    "plt.plot(f,label='Rank3')\n",
    "plt.plot(g,label='Rank4')\n",
    "plt.plot(h,label='Rank1Of')\n",
    "plt.plot(i1,label='Rank2Of')\n",
    "plt.plot(j,label='Rank3Of')\n",
    "plt.plot(k,label='Rank4Of')\n",
    "plt.legend()\n",
    "plt.xlabel(\"X axis label\")\n",
    "plt.ylabel(\"Y axis label\")\n",
    "filename='AxisSurplus'\n",
    "i = 0\n",
    "while True:\n",
    "    i += 1\n",
    "    newname = '{}{:d}.png'.format(filename, i)\n",
    "    if os.path.exists(newname):\n",
    "        continue\n",
    "    plt.savefig(newname)\n",
    "    break\n",
    "# Save the figure as a PNG\n",
    "plt.show()\n"
   ]
  },
  {
   "cell_type": "code",
   "execution_count": null,
   "id": "3bc04c62",
   "metadata": {},
   "outputs": [],
   "source": []
  }
 ],
 "metadata": {
  "kernelspec": {
   "display_name": "Python 3",
   "language": "python",
   "name": "python3"
  },
  "language_info": {
   "codemirror_mode": {
    "name": "ipython",
    "version": 3
   },
   "file_extension": ".py",
   "mimetype": "text/x-python",
   "name": "python",
   "nbconvert_exporter": "python",
   "pygments_lexer": "ipython3",
   "version": "3.8.8"
  }
 },
 "nbformat": 4,
 "nbformat_minor": 5
}
